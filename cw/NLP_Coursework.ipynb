{
 "cells": [
  {
   "cell_type": "code",
   "execution_count": 1,
   "metadata": {},
   "outputs": [],
   "source": [
    "import random\n",
    "import os\n",
    "from urllib import request\n",
    "model_name='pcl_deberta_model_base'\n",
    "user=\"/vol/bitbucket/cx720/cw/nlp/70016-Natural-Language-Processing/\"\n",
    "# user=\"/vol/bitbucket/xz223/dlenv/NLP/\""
   ]
  },
  {
   "cell_type": "markdown",
   "metadata": {},
   "source": [
    "# Resoure:"
   ]
  },
  {
   "cell_type": "markdown",
   "metadata": {},
   "source": [
    "## The dont_patronize_me.py module"
   ]
  },
  {
   "cell_type": "code",
   "execution_count": 2,
   "metadata": {},
   "outputs": [
    {
     "name": "stdout",
     "output_type": "stream",
     "text": [
      "Fetching https://raw.githubusercontent.com/Perez-AlmendrosC/dontpatronizeme/master/semeval-2022/dont_patronize_me.py\n"
     ]
    }
   ],
   "source": [
    "module_url = f\"https://raw.githubusercontent.com/Perez-AlmendrosC/dontpatronizeme/master/semeval-2022/dont_patronize_me.py\"\n",
    "module_name = module_url.split('/')[-1]\n",
    "print(f'Fetching {module_url}')\n",
    "#with open(\"file_1.txt\") as f1, open(\"file_2.txt\") as f2\n",
    "with request.urlopen(module_url) as f, open(module_name,'w') as outf:\n",
    "  a = f.read()\n",
    "  outf.write(a.decode('utf-8'))"
   ]
  },
  {
   "cell_type": "markdown",
   "metadata": {},
   "source": [
    "## The official scorer"
   ]
  },
  {
   "cell_type": "code",
   "execution_count": 3,
   "metadata": {},
   "outputs": [
    {
     "name": "stdout",
     "output_type": "stream",
     "text": [
      "Fetching https://raw.githubusercontent.com/Perez-AlmendrosC/dontpatronizeme/master/semeval-2022/evaluation.py\n"
     ]
    }
   ],
   "source": [
    "module_url = f\"https://raw.githubusercontent.com/Perez-AlmendrosC/dontpatronizeme/master/semeval-2022/evaluation.py\"\n",
    "module_name = module_url.split('/')[-1]\n",
    "print(f'Fetching {module_url}')\n",
    "#with open(\"file_1.txt\") as f1, open(\"file_2.txt\") as f2\n",
    "with request.urlopen(module_url) as f, open(module_name,'w') as outf:\n",
    "  a = f.read()\n",
    "  outf.write(a.decode('utf-8'))"
   ]
  },
  {
   "cell_type": "markdown",
   "metadata": {},
   "source": [
    "## Dataset"
   ]
  },
  {
   "cell_type": "code",
   "execution_count": 4,
   "metadata": {},
   "outputs": [
    {
     "name": "stdout",
     "output_type": "stream",
     "text": [
      "Fetching https://raw.githubusercontent.com/Perez-AlmendrosC/dontpatronizeme/refs/heads/master/semeval-2022/practice%20splits/dev_semeval_parids-labels.csv ...\n"
     ]
    }
   ],
   "source": [
    "dev_url = \"https://raw.githubusercontent.com/Perez-AlmendrosC/dontpatronizeme/refs/heads/master/semeval-2022/practice%20splits/dev_semeval_parids-labels.csv\"\n",
    "dev_name = dev_url.split('/')[-1] \n",
    "\n",
    "print(f\"Fetching {dev_url} ...\")\n",
    "with request.urlopen(dev_url) as f, open(dev_name, 'w', encoding='utf-8') as outf:\n",
    "    outf.write(f.read().decode('utf-8'))"
   ]
  },
  {
   "cell_type": "code",
   "execution_count": 5,
   "metadata": {},
   "outputs": [
    {
     "name": "stdout",
     "output_type": "stream",
     "text": [
      "Fetching https://raw.githubusercontent.com/Perez-AlmendrosC/dontpatronizeme/master/semeval-2022/practice%20splits/train_semeval_parids-labels.csv ...\n"
     ]
    }
   ],
   "source": [
    "train_url = \"https://raw.githubusercontent.com/Perez-AlmendrosC/dontpatronizeme/master/semeval-2022/practice%20splits/train_semeval_parids-labels.csv\"\n",
    "train_name = train_url.split('/')[-1]\n",
    "\n",
    "print(f\"Fetching {train_url} ...\")\n",
    "with request.urlopen(train_url) as f, open(train_name, 'w', encoding='utf-8') as outf:\n",
    "    outf.write(f.read().decode('utf-8'))"
   ]
  },
  {
   "cell_type": "code",
   "execution_count": 6,
   "metadata": {},
   "outputs": [
    {
     "name": "stdout",
     "output_type": "stream",
     "text": [
      "Fetching https://raw.githubusercontent.com/EuanScottWatson/NLP-Classification-CW/refs/heads/master/data/dontpatronizeme_pcl.tsv ...\n"
     ]
    }
   ],
   "source": [
    "train_url = \"https://raw.githubusercontent.com/EuanScottWatson/NLP-Classification-CW/refs/heads/master/data/dontpatronizeme_pcl.tsv\"\n",
    "train_name = train_url.split('/')[-1]\n",
    "\n",
    "print(f\"Fetching {train_url} ...\")\n",
    "with request.urlopen(train_url) as f, open(train_name, 'w', encoding='utf-8') as outf:\n",
    "    outf.write(f.read().decode('utf-8'))"
   ]
  },
  {
   "cell_type": "code",
   "execution_count": 7,
   "metadata": {},
   "outputs": [
    {
     "name": "stdout",
     "output_type": "stream",
     "text": [
      "Fetching https://raw.githubusercontent.com/Perez-AlmendrosC/dontpatronizeme/refs/heads/master/semeval-2022/TEST/task4_test.tsv ...\n"
     ]
    }
   ],
   "source": [
    "train_url = \"https://raw.githubusercontent.com/Perez-AlmendrosC/dontpatronizeme/refs/heads/master/semeval-2022/TEST/task4_test.tsv\"\n",
    "train_name = train_url.split('/')[-1]\n",
    "\n",
    "print(f\"Fetching {train_url} ...\")\n",
    "with request.urlopen(train_url) as f, open(train_name, 'w', encoding='utf-8') as outf:\n",
    "    outf.write(f.read().decode('utf-8'))"
   ]
  },
  {
   "cell_type": "markdown",
   "metadata": {},
   "source": [
    "# DeBERTa"
   ]
  },
  {
   "cell_type": "code",
   "execution_count": 8,
   "metadata": {},
   "outputs": [],
   "source": [
    "import pandas as pd\n",
    "from sklearn.model_selection import train_test_split\n",
    "from transformers import DebertaTokenizer, DebertaForSequenceClassification"
   ]
  },
  {
   "cell_type": "markdown",
   "metadata": {},
   "source": [
    "## Dataset"
   ]
  },
  {
   "cell_type": "code",
   "execution_count": 9,
   "metadata": {},
   "outputs": [],
   "source": [
    "import os\n",
    "from collections import defaultdict\n",
    "from sklearn.preprocessing import MultiLabelBinarizer\n",
    "import pandas as pd"
   ]
  },
  {
   "cell_type": "code",
   "execution_count": 10,
   "metadata": {},
   "outputs": [],
   "source": [
    "class DontPatronizeMe:\n",
    "\n",
    "\tdef __init__(self, _train_path, _test_path):\n",
    "\n",
    "\t\tself.train_path = _train_path\n",
    "\t\tself.test_path = _test_path\n",
    "\t\tself.train_task1_df = None\n",
    "\t\tself.test_set_df = None\n",
    "\n",
    "\tdef load_task1(self):\n",
    "\t\t\"\"\"\n",
    "\t\tLoad task 1 training set and convert the tags into binary labels. \n",
    "\t\tParagraphs with original labels of 0 or 1 are considered to be negative examples of PCL and will have the label 0 = negative.\n",
    "\t\tParagraphs with original labels of 2, 3 or 4 are considered to be positive examples of PCL and will have the label 1 = positive.\n",
    "\t\tIt returns a pandas dataframe with paragraphs and labels.\n",
    "\t\t\"\"\"\n",
    "\t\trows=[]\n",
    "\t\twith open(self.train_path) as f:\n",
    "\t\t\tfor line in f.readlines()[4:]:\n",
    "\t\t\t\tpar_id=line.strip().split('\\t')[0]\n",
    "\t\t\t\tart_id = line.strip().split('\\t')[1]\n",
    "\t\t\t\tkeyword=line.strip().split('\\t')[2]\n",
    "\t\t\t\tcountry=line.strip().split('\\t')[3]\n",
    "\t\t\t\tt=line.strip().split('\\t')[4]#.lower()\n",
    "\t\t\t\tl=line.strip().split('\\t')[-1]\n",
    "\t\t\t\tif l=='0' or l=='1':\n",
    "\t\t\t\t\tlbin=0\n",
    "\t\t\t\telse:\n",
    "\t\t\t\t\tlbin=1\n",
    "\t\t\t\trows.append(\n",
    "\t\t\t\t\t{'par_id':par_id,\n",
    "\t\t\t\t\t'art_id':art_id,\n",
    "\t\t\t\t\t'keyword':keyword,\n",
    "\t\t\t\t\t'country':country,\n",
    "\t\t\t\t\t'text':t, \n",
    "\t\t\t\t\t'label':lbin, \n",
    "\t\t\t\t\t'orig_label':l\n",
    "\t\t\t\t\t}\n",
    "\t\t\t\t\t)\n",
    "\t\tdf=pd.DataFrame(rows, columns=['par_id', 'art_id', 'keyword', 'country', 'text', 'label', 'orig_label']) \n",
    "\t\tself.train_task1_df = df"
   ]
  },
  {
   "cell_type": "code",
   "execution_count": 11,
   "metadata": {},
   "outputs": [],
   "source": [
    "def get_test(user):\n",
    "    _train_path = f'{user}/cw/dontpatronizeme_pcl.tsv'\n",
    "    _test_path = f'{user}/cw/task4_test.tsv'\n",
    "    \n",
    "    dpm = DontPatronizeMe(_train_path, _test_path)\n",
    "    dpm.load_task1()\n",
    "    \n",
    "    train_data = dpm.train_task1_df\n",
    "    train_data[\"par_id\"] = train_data[\"par_id\"].astype(str)\n",
    "    \n",
    "    dev_parids = pd.read_csv(\"dev_semeval_parids-labels.csv\")\n",
    "    dev_parids[\"par_id\"] = dev_parids[\"par_id\"].astype(str)\n",
    "    dev_parid_list = dev_parids[\"par_id\"].unique()\n",
    "    dev_data = train_data[train_data[\"par_id\"].isin(dev_parid_list)]\n",
    "    return dev_data\n",
    "\n",
    "def get_train(user):\n",
    "    _train_path = f'{user}/cw/dontpatronizeme_pcl.tsv'\n",
    "    _test_path = f'{user}/cw/task4_test.tsv'\n",
    "    \n",
    "    dpm = DontPatronizeMe(_train_path, _test_path)\n",
    "    dpm.load_task1()\n",
    "    \n",
    "    train_data = dpm.train_task1_df\n",
    "    train_data[\"par_id\"] = train_data[\"par_id\"].astype(str)\n",
    "    \n",
    "    train_parids = pd.read_csv(\"train_semeval_parids-labels.csv\")\n",
    "    train_parids[\"par_id\"] = train_parids[\"par_id\"].astype(str)\n",
    "    train_parid_list = train_parids[\"par_id\"].unique()\n",
    "    train_filtered_data = train_data[train_data[\"par_id\"].isin(train_parid_list)]\n",
    "    return train_filtered_data\n"
   ]
  },
  {
   "cell_type": "code",
   "execution_count": 12,
   "metadata": {},
   "outputs": [],
   "source": [
    "train_data = get_train(user)\n",
    "test_data = get_test(user)"
   ]
  },
  {
   "cell_type": "code",
   "execution_count": 13,
   "metadata": {},
   "outputs": [
    {
     "name": "stdout",
     "output_type": "stream",
     "text": [
      "Train set positive ratio: 0.09480597014925374\n"
     ]
    }
   ],
   "source": [
    "print(\"Train set positive ratio:\", train_data['label'].mean())"
   ]
  },
  {
   "cell_type": "code",
   "execution_count": 14,
   "metadata": {},
   "outputs": [],
   "source": [
    "# split\n",
    "train_train_data, train_val_data = train_test_split(train_data, test_size=0.2, random_state=42, stratify=train_data['label'])"
   ]
  },
  {
   "cell_type": "code",
   "execution_count": 15,
   "metadata": {},
   "outputs": [
    {
     "name": "stdout",
     "output_type": "stream",
     "text": [
      "Train-train set positive ratio: 0.09477611940298507\n",
      "Train-val set positive ratio: 0.09492537313432836\n"
     ]
    }
   ],
   "source": [
    "print(\"Train-train set positive ratio:\", train_train_data['label'].mean())\n",
    "print(\"Train-val set positive ratio:\", train_val_data['label'].mean())"
   ]
  },
  {
   "cell_type": "markdown",
   "metadata": {},
   "source": [
    "## Data analysis"
   ]
  },
  {
   "cell_type": "code",
   "execution_count": 16,
   "metadata": {},
   "outputs": [],
   "source": [
    "import numpy as np\n",
    "import matplotlib.pyplot as plt"
   ]
  },
  {
   "cell_type": "code",
   "execution_count": 17,
   "metadata": {},
   "outputs": [
    {
     "name": "stdout",
     "output_type": "stream",
     "text": [
      "positive samples: 794\n",
      "negative samples: 7581\n"
     ]
    }
   ],
   "source": [
    "# Calculate the number of samples in the positive and negative categories\n",
    "n_positive = train_data[\"label\"].sum()\n",
    "n_negative = (train_data[\"label\"] == 0).sum()\n",
    "print(f\"positive samples: {n_positive}\")\n",
    "print(f\"negative samples: {n_negative}\")"
   ]
  },
  {
   "cell_type": "code",
   "execution_count": 18,
   "metadata": {},
   "outputs": [
    {
     "name": "stdout",
     "output_type": "stream",
     "text": [
      "Number of unique keywords: 10\n",
      "Keyword List: ['hopeless' 'migrant' 'immigrant' 'disabled' 'refugee' 'in-need'\n",
      " 'homeless' 'vulnerable' 'women' 'poor-families']\n"
     ]
    }
   ],
   "source": [
    "# Get unique keywords\n",
    "unique_kw = train_data[\"keyword\"].unique()\n",
    "n_unique_kw = len(unique_kw)\n",
    "print(f\"Number of unique keywords: {n_unique_kw}\")\n",
    "print(f\"Keyword List: {unique_kw}\")\n",
    "\n",
    "# Calculate the proportion of each keyword in the positive and negative categories\n",
    "n_positive_per_kw = []\n",
    "n_negative_per_kw = []\n",
    "for kw in unique_kw:\n",
    "    data_kw = train_data[train_data[\"keyword\"] == kw]\n",
    "    n_positive_kw = round(100 * data_kw[\"label\"].sum() / n_positive, 1)\n",
    "    n_negative_kw = round(100 * (data_kw[\"label\"] == 0).sum() / n_negative, 1)\n",
    "    n_positive_per_kw.append(n_positive_kw)\n",
    "    n_negative_per_kw.append(n_negative_kw)"
   ]
  },
  {
   "cell_type": "code",
   "execution_count": 19,
   "metadata": {},
   "outputs": [
    {
     "data": {
      "image/png": "[encoded data removed]",
      "text/plain": [
       "<Figure size 1200x600 with 1 Axes>"
      ]
     },
     "metadata": {},
     "output_type": "display_data"
    }
   ],
   "source": [
    "# Plotting keyword distribution bar charts\n",
    "x = np.arange(len(unique_kw))  # Keyword position\n",
    "width = 0.35  # bar width\n",
    "\n",
    "fig, ax = plt.subplots()\n",
    "fig.set_size_inches(12, 6)\n",
    "rects1 = ax.bar(x - width/2, n_positive_per_kw, width, label=\"Positive class\")\n",
    "rects2 = ax.bar(x + width/2, n_negative_per_kw, width, label=\"Negative class\")\n",
    "\n",
    "ax.set_ylabel(\"Percentage of total positive/negative examples\")\n",
    "ax.set_title(\"Class labels by keyword\")\n",
    "ax.set_xticks(x, unique_kw, rotation=45, ha=\"right\")\n",
    "ax.legend()\n",
    "\n",
    "ax.bar_label(rects1, padding=3)\n",
    "ax.bar_label(rects2, padding=3)\n",
    "\n",
    "fig.tight_layout()\n",
    "fig.savefig(\"analysis_keyword.png\")\n",
    "plt.show()"
   ]
  },
  {
   "cell_type": "code",
   "execution_count": 20,
   "metadata": {},
   "outputs": [
    {
     "data": {
      "image/png": "[encoded data removed]",
      "text/plain": [
       "<Figure size 1200x600 with 1 Axes>"
      ]
     },
     "metadata": {},
     "output_type": "display_data"
    }
   ],
   "source": [
    "# Plotting keyword distribution bar charts\n",
    "x = np.arange(len(unique_kw))  # Keyword position\n",
    "width = 0.35  # bar width\n",
    "\n",
    "fig, ax = plt.subplots()\n",
    "fig.set_size_inches(12, 6)\n",
    "rects1 = ax.bar(x - width/2, n_positive_per_kw, width, label=\"Positive class\")\n",
    "rects2 = ax.bar(x + width/2, n_negative_per_kw, width, label=\"Negative class\")\n",
    "\n",
    "ax.set_ylabel(\"Percentage of total positive/negative examples\")\n",
    "ax.set_title(\"Class labels by keyword\")\n",
    "ax.set_xticks(x, unique_kw, rotation=45, ha=\"right\")\n",
    "ax.legend()\n",
    "\n",
    "ax.bar_label(rects1, padding=3)\n",
    "ax.bar_label(rects2, padding=3)\n",
    "\n",
    "fig.tight_layout()\n",
    "fig.savefig(\"analysis_keyword.png\")\n",
    "plt.show()"
   ]
  },
  {
   "cell_type": "code",
   "execution_count": 21,
   "metadata": {},
   "outputs": [],
   "source": [
    "# Extracting sentence lengths for positive and negative categories\n",
    "length_positive = []\n",
    "length_negative = []\n",
    "\n",
    "for row in train_data.itertuples():\n",
    "    sentence = row.text\n",
    "    label = row.label\n",
    "    try:\n",
    "        sentence_length = len(sentence.split())\n",
    "    except AttributeError:\n",
    "        continue\n",
    "\n",
    "    if label:\n",
    "        length_positive.append(sentence_length)\n",
    "    else:\n",
    "        length_negative.append(sentence_length)"
   ]
  },
  {
   "cell_type": "code",
   "execution_count": 22,
   "metadata": {},
   "outputs": [
    {
     "data": {
      "image/png": "[encoded data removed]",
      "text/plain": [
       "<Figure size 640x480 with 1 Axes>"
      ]
     },
     "metadata": {},
     "output_type": "display_data"
    }
   ],
   "source": [
    "# Plot histogram of lengths per class\n",
    "bins = np.linspace(0, 200, 50)\n",
    "\n",
    "fig2, ax2 = plt.subplots()\n",
    "ax2.hist(length_positive, bins, density=True, alpha=0.9, label=\"Positive class\")\n",
    "ax2.hist(length_negative, bins, density=True, alpha=0.5, label=\"Negative class\")\n",
    "\n",
    "ax2.legend(loc=\"upper right\")\n",
    "ax2.set_xlabel(\"Sentence length\")\n",
    "ax2.set_ylabel(\"Normalised frequency\")\n",
    "ax2.set_title(\"Sentence length distribution per class\")\n",
    "fig2.savefig(\"analysis_length.png\")\n",
    "plt.show()"
   ]
  },
  {
   "cell_type": "markdown",
   "metadata": {},
   "source": [
    "## Create PyTorch Dataset"
   ]
  },
  {
   "cell_type": "code",
   "execution_count": 23,
   "metadata": {},
   "outputs": [],
   "source": [
    "import torch\n",
    "from torch.utils.data import Dataset"
   ]
  },
  {
   "cell_type": "code",
   "execution_count": 24,
   "metadata": {},
   "outputs": [],
   "source": [
    "tokenizer = DebertaTokenizer.from_pretrained(\"microsoft/deberta-base\", do_lower_case=False)\n",
    "\n",
    "def encode_data(data, tokenizer, max_length=512):\n",
    "    return tokenizer(data['text'].tolist(), return_tensors=\"pt\", truncation=True, padding=True, max_length=max_length)\n",
    "\n",
    "train_train_encodings = encode_data(train_train_data, tokenizer)\n",
    "train_val_encodings = encode_data(train_val_data, tokenizer)"
   ]
  },
  {
   "cell_type": "code",
   "execution_count": 25,
   "metadata": {},
   "outputs": [],
   "source": [
    "class PCLDataset(Dataset):\n",
    "    def __init__(self, encodings, labels):\n",
    "        self.encodings = encodings\n",
    "        self.labels = labels\n",
    "\n",
    "    def __getitem__(self, idx):\n",
    "        item = {key: val[idx] for key, val in self.encodings.items()}\n",
    "        item['labels'] = torch.tensor(self.labels[idx])\n",
    "        return item\n",
    "\n",
    "    def __len__(self):\n",
    "        return len(self.labels)\n"
   ]
  },
  {
   "cell_type": "code",
   "execution_count": 26,
   "metadata": {},
   "outputs": [],
   "source": [
    "train_train_dataset = PCLDataset(train_train_encodings, list(train_train_data[\"label\"]))\n",
    "train_val_dataset = PCLDataset(train_val_encodings, list(train_val_data[\"label\"]))"
   ]
  },
  {
   "cell_type": "markdown",
   "metadata": {},
   "source": [
    "## Compute_metrics"
   ]
  },
  {
   "cell_type": "code",
   "execution_count": 27,
   "metadata": {},
   "outputs": [],
   "source": [
    "from sklearn.metrics import accuracy_score, f1_score\n",
    "import numpy as np"
   ]
  },
  {
   "cell_type": "code",
   "execution_count": 28,
   "metadata": {},
   "outputs": [],
   "source": [
    "def compute_metrics(input):\n",
    "    y_pred = np.argmax(input.predictions, axis=1)\n",
    "    y_true = input.label_ids\n",
    "    accuracy = accuracy_score(y_true, y_pred)\n",
    "    f1score = f1_score(y_true, y_pred)\n",
    "    return {'accuracy': accuracy, 'f1 score': f1score}"
   ]
  },
  {
   "cell_type": "markdown",
   "metadata": {},
   "source": [
    "## Training"
   ]
  },
  {
   "cell_type": "code",
   "execution_count": 29,
   "metadata": {},
   "outputs": [],
   "source": [
    "from transformers import DebertaForSequenceClassification, Trainer, TrainingArguments"
   ]
  },
  {
   "cell_type": "code",
   "execution_count": 30,
   "metadata": {},
   "outputs": [
    {
     "name": "stderr",
     "output_type": "stream",
     "text": [
      "Some weights of DebertaForSequenceClassification were not initialized from the model checkpoint at microsoft/deberta-base and are newly initialized: ['classifier.bias', 'classifier.weight', 'pooler.dense.bias', 'pooler.dense.weight']\n",
      "You should probably TRAIN this model on a down-stream task to be able to use it for predictions and inference.\n"
     ]
    }
   ],
   "source": [
    "# Initializing a model from the microsoft/deberta-base style configuration\n",
    "num_labels = 2  \n",
    "model = DebertaForSequenceClassification.from_pretrained(\"microsoft/deberta-base\", num_labels=num_labels)\n"
   ]
  },
  {
   "cell_type": "code",
   "execution_count": 31,
   "metadata": {},
   "outputs": [
    {
     "name": "stdout",
     "output_type": "stream",
     "text": [
      "2.6.0+cu124\n",
      "12.4\n",
      "True\n"
     ]
    }
   ],
   "source": [
    "print(torch.__version__)\n",
    "print(torch.version.cuda)\n",
    "print(torch.cuda.is_available())"
   ]
  },
  {
   "cell_type": "code",
   "execution_count": 32,
   "metadata": {},
   "outputs": [
    {
     "name": "stdout",
     "output_type": "stream",
     "text": [
      "cuda:0\n"
     ]
    }
   ],
   "source": [
    "#  GPU\n",
    "# device = \"cuda:0\" if torch.cuda.is_available() else \"cpu\"\n",
    "USE_GPU = True\n",
    " \n",
    "if USE_GPU and torch.cuda.is_available():\n",
    "    device = torch.device('cuda:0')\n",
    "else:\n",
    "    device = torch.device('cpu')\n",
    "\n",
    "model.to(device)\n",
    "print(device)"
   ]
  },
  {
   "cell_type": "code",
   "execution_count": 33,
   "metadata": {},
   "outputs": [],
   "source": [
    "from transformers import AdamW, get_linear_schedule_with_warmup"
   ]
  },
  {
   "cell_type": "code",
   "execution_count": 34,
   "metadata": {},
   "outputs": [
    {
     "name": "stderr",
     "output_type": "stream",
     "text": [
      "/vol/bitbucket/cx720/myvenv/lib/python3.12/site-packages/transformers/training_args.py:1594: FutureWarning: `evaluation_strategy` is deprecated and will be removed in version 4.46 of 🤗 Transformers. Use `eval_strategy` instead\n",
      "  warnings.warn(\n",
      "/tmp/ipykernel_1474541/519122625.py:18: FutureWarning: `tokenizer` is deprecated and will be removed in version 5.0.0 for `Trainer.__init__`. Use `processing_class` instead.\n",
      "  trainer = Trainer(\n"
     ]
    }
   ],
   "source": [
    "\n",
    "# setting training parameters\n",
    "training_args = TrainingArguments(\n",
    "    output_dir=f'./Deberta/{model_name}',\n",
    "    learning_rate=1e-5,  \n",
    "    weight_decay=0.05,\n",
    "    num_train_epochs=10,  # 10 epochs\n",
    "    per_device_train_batch_size=8,\n",
    "    per_device_eval_batch_size=8,\n",
    "    logging_steps=10,\n",
    "    do_eval=True,\n",
    "    evaluation_strategy=\"epoch\",\n",
    ")\n",
    "\n",
    "total_steps = len(train_train_dataset) // training_args.per_device_train_batch_size * training_args.num_train_epochs\n",
    "\n",
    "\n",
    "# create trainer\n",
    "trainer = Trainer(\n",
    "    model=model,\n",
    "    args=training_args,\n",
    "    tokenizer=tokenizer,\n",
    "    train_dataset=train_train_dataset,\n",
    "    eval_dataset=train_val_dataset,\n",
    "    compute_metrics=compute_metrics  \n",
    ")"
   ]
  },
  {
   "cell_type": "code",
   "execution_count": 35,
   "metadata": {},
   "outputs": [
    {
     "data": {
      "text/html": [
       "\n",
       "    <div>\n",
       "      \n",
       "      <progress value='8380' max='8380' style='width:300px; height:20px; vertical-align: middle;'></progress>\n",
       "      [8380/8380 38:37, Epoch 10/10]\n",
       "    </div>\n",
       "    <table border=\"1\" class=\"dataframe\">\n",
       "  <thead>\n",
       " <tr style=\"text-align: left;\">\n",
       "      <th>Epoch</th>\n",
       "      <th>Training Loss</th>\n",
       "      <th>Validation Loss</th>\n",
       "      <th>Accuracy</th>\n",
       "      <th>F1 score</th>\n",
       "    </tr>\n",
       "  </thead>\n",
       "  <tbody>\n",
       "    <tr>\n",
       "      <td>1</td>\n",
       "      <td>0.228100</td>\n",
       "      <td>0.224311</td>\n",
       "      <td>0.909254</td>\n",
       "      <td>0.482993</td>\n",
       "    </tr>\n",
       "    <tr>\n",
       "      <td>2</td>\n",
       "      <td>0.274800</td>\n",
       "      <td>0.264707</td>\n",
       "      <td>0.923582</td>\n",
       "      <td>0.525926</td>\n",
       "    </tr>\n",
       "    <tr>\n",
       "      <td>3</td>\n",
       "      <td>0.008100</td>\n",
       "      <td>0.326750</td>\n",
       "      <td>0.923582</td>\n",
       "      <td>0.552448</td>\n",
       "    </tr>\n",
       "    <tr>\n",
       "      <td>4</td>\n",
       "      <td>0.159800</td>\n",
       "      <td>0.340012</td>\n",
       "      <td>0.929552</td>\n",
       "      <td>0.553030</td>\n",
       "    </tr>\n",
       "    <tr>\n",
       "      <td>5</td>\n",
       "      <td>0.000300</td>\n",
       "      <td>0.478897</td>\n",
       "      <td>0.922985</td>\n",
       "      <td>0.559727</td>\n",
       "    </tr>\n",
       "    <tr>\n",
       "      <td>6</td>\n",
       "      <td>0.000400</td>\n",
       "      <td>0.596315</td>\n",
       "      <td>0.925373</td>\n",
       "      <td>0.497992</td>\n",
       "    </tr>\n",
       "    <tr>\n",
       "      <td>7</td>\n",
       "      <td>0.000000</td>\n",
       "      <td>0.672394</td>\n",
       "      <td>0.915224</td>\n",
       "      <td>0.582353</td>\n",
       "    </tr>\n",
       "    <tr>\n",
       "      <td>8</td>\n",
       "      <td>0.000000</td>\n",
       "      <td>0.657728</td>\n",
       "      <td>0.927164</td>\n",
       "      <td>0.601307</td>\n",
       "    </tr>\n",
       "    <tr>\n",
       "      <td>9</td>\n",
       "      <td>0.000000</td>\n",
       "      <td>0.689573</td>\n",
       "      <td>0.928358</td>\n",
       "      <td>0.552239</td>\n",
       "    </tr>\n",
       "    <tr>\n",
       "      <td>10</td>\n",
       "      <td>0.000000</td>\n",
       "      <td>0.698723</td>\n",
       "      <td>0.928955</td>\n",
       "      <td>0.550943</td>\n",
       "    </tr>\n",
       "  </tbody>\n",
       "</table><p>"
      ],
      "text/plain": [
       "<IPython.core.display.HTML object>"
      ]
     },
     "metadata": {},
     "output_type": "display_data"
    }
   ],
   "source": [
    "trainer.train()\n",
    "trainer.save_model(f\"./models/saved_model_casedtokenizer/{model_name}\")"
   ]
  },
  {
   "cell_type": "code",
   "execution_count": 36,
   "metadata": {},
   "outputs": [
    {
     "data": {
      "text/html": [
       "\n",
       "    <div>\n",
       "      \n",
       "      <progress value='210' max='210' style='width:300px; height:20px; vertical-align: middle;'></progress>\n",
       "      [210/210 00:18]\n",
       "    </div>\n",
       "    "
      ],
      "text/plain": [
       "<IPython.core.display.HTML object>"
      ]
     },
     "metadata": {},
     "output_type": "display_data"
    },
    {
     "name": "stdout",
     "output_type": "stream",
     "text": [
      "{'eval_loss': 0.6987230181694031, 'eval_accuracy': 0.928955223880597, 'eval_f1 score': 0.5509433962264151, 'eval_runtime': 18.1722, 'eval_samples_per_second': 92.174, 'eval_steps_per_second': 11.556, 'epoch': 10.0}\n"
     ]
    }
   ],
   "source": [
    "results = trainer.evaluate()\n",
    "print(results)"
   ]
  },
  {
   "cell_type": "code",
   "execution_count": 37,
   "metadata": {},
   "outputs": [
    {
     "data": {
      "text/plain": [
       "('./pcl_deberta_model_base/tokenizer_config.json',\n",
       " './pcl_deberta_model_base/special_tokens_map.json',\n",
       " './pcl_deberta_model_base/vocab.json',\n",
       " './pcl_deberta_model_base/merges.txt',\n",
       " './pcl_deberta_model_base/added_tokens.json')"
      ]
     },
     "execution_count": 37,
     "metadata": {},
     "output_type": "execute_result"
    }
   ],
   "source": [
    "model.save_pretrained(f'./{model_name}')\n",
    "tokenizer.save_pretrained(f'./{model_name}')"
   ]
  },
  {
   "cell_type": "markdown",
   "metadata": {},
   "source": [
    "## Prediction"
   ]
  },
  {
   "cell_type": "code",
   "execution_count": 38,
   "metadata": {},
   "outputs": [],
   "source": [
    "def predict(text, model, tokenizer):\n",
    "    inputs = tokenizer(text, return_tensors='pt', padding=True, truncation=True, max_length=512)\n",
    "    outputs = model(**inputs)\n",
    "    probs = torch.nn.functional.softmax(outputs.logits, dim=-1)\n",
    "    return probs.argmax().item()"
   ]
  },
  {
   "cell_type": "markdown",
   "metadata": {},
   "source": [
    "## Test"
   ]
  },
  {
   "cell_type": "code",
   "execution_count": 39,
   "metadata": {},
   "outputs": [],
   "source": [
    "import torch\n",
    "from transformers import DebertaForSequenceClassification, DebertaTokenizer\n",
    "import os\n",
    "\n",
    "def labels2file(p, outf_path):\n",
    "\twith open(outf_path,'w') as outf:\n",
    "\t\tfor pi in p:\n",
    "\t\t\toutf.write(','.join([str(k) for k in pi])+'\\n')\n",
    "            \n",
    "def run_evaluation(model_path, train_test_data, model_name,\n",
    "                   res_dir=\"res\", ref_dir=\"ref\"):\n",
    "\n",
    "    model = DebertaForSequenceClassification.from_pretrained(model_path)\n",
    "    tokenizer = DebertaTokenizer.from_pretrained(model_path)\n",
    "    model.eval()\n",
    "    device = torch.device('cuda' if torch.cuda.is_available() else 'cpu')\n",
    "    model.to(device)\n",
    "\n",
    "    def predict_label(text, model, tokenizer, device):\n",
    "        inputs = tokenizer(\n",
    "            text,\n",
    "            return_tensors=\"pt\",\n",
    "            padding=True,\n",
    "            truncation=True,\n",
    "            max_length=512\n",
    "        ).to(device)\n",
    "\n",
    "        with torch.no_grad():\n",
    "            outputs = model(**inputs)\n",
    "            logits = outputs.logits\n",
    "            pred_label = torch.argmax(logits, dim=1).item()\n",
    "        return pred_label\n",
    "        \n",
    "    os.makedirs(f\"results/{model_name}/res/\", exist_ok=True)\n",
    "    preds_task1 = []\n",
    "    \n",
    "    for i, row in train_test_data.iterrows():\n",
    "        text = row[\"text\"]\n",
    "        label_pred = predict_label(text, model, tokenizer, device)\n",
    "        preds_task1.append([label_pred])\n",
    "        \n",
    "    labels2file(preds_task1, os.path.join(f\"results/{model_name}/res/\", 'task1.txt'))\n",
    "    \n",
    "    os.makedirs(f\"results/{model_name}/ref/\", exist_ok=True)\n",
    "    gold_labels = train_test_data['label'].tolist()\n",
    "    gold_labels_nested = [[lbl] for lbl in gold_labels]\n",
    "    labels2file(gold_labels_nested, f\"results/{model_name}/ref/task1.txt\")\n",
    "\n",
    "    os.system(f\"python3 evaluation.py results/{model_name}/ results/{model_name}/\")\n",
    "    \n",
    "    if os.path.exists(f\"results/{model_name}/scores.txt\"):\n",
    "        with open(f\"results/{model_name}/scores.txt\", \"r\", encoding=\"utf-8\") as f:\n",
    "            print(f.read())\n",
    " "
   ]
  },
  {
   "cell_type": "code",
   "execution_count": 40,
   "metadata": {},
   "outputs": [
    {
     "name": "stdout",
     "output_type": "stream",
     "text": [
      "task1_precision:0.6459627329192547\n",
      "task1_recall:0.5226130653266332\n",
      "task1_f1:0.5777777777777777\n",
      "\n"
     ]
    }
   ],
   "source": [
    "model_path = f\"./{model_name}\"\n",
    "run_evaluation(model_path=model_path, train_test_data=test_data, model_name=model_name)"
   ]
  }
 ],
 "metadata": {
  "kernelspec": {
   "display_name": "Python 3 (ipykernel)",
   "language": "python",
   "name": "python3"
  },
  "language_info": {
   "codemirror_mode": {
    "name": "ipython",
    "version": 3
   },
   "file_extension": ".py",
   "mimetype": "text/x-python",
   "name": "python",
   "nbconvert_exporter": "python",
   "pygments_lexer": "ipython3",
   "version": "3.12.3"
  }
 },
 "nbformat": 4,
 "nbformat_minor": 4
}
